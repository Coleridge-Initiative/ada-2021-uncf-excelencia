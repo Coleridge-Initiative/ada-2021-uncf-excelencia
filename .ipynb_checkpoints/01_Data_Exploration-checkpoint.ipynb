{
 "cells": [
  {
   "cell_type": "markdown",
   "metadata": {},
   "source": [
    "<img style=\"float: center;\" src=\"images/CI_horizontal.png\" width=\"600\">\n",
    "<center>\n",
    "    <span style=\"font-size: 1.5em;\">\n",
    "        <a href='https://www.coleridgeinitiative.org'>Website</a>\n",
    "    </span>\n",
    "</center>\n",
    "\n",
    "<center>Brian Kim, Allison Nunez</center>\n",
    "<br>\n",
    "<a href=\"https://doi.org/10.5281/zenodo.6426169\"><img src=\"https://zenodo.org/badge/DOI/10.5281/zenodo.6426169.svg\" alt=\"DOI\"></a>\n"
   ]
  },
  {
   "cell_type": "markdown",
   "metadata": {},
   "source": [
    "# Dataset Exploration\n",
    "----------"
   ]
  },
  {
   "cell_type": "markdown",
   "metadata": {},
   "source": [
    "## Introduction\n",
    "\n",
    "In an ideal world, all of the data would have the desirable properties (no missing values, no errors, standard formats, and so on), and perfect data documentation, with summary statistics and appropriate aggregate measures. However, that is hardly ever true, and a lot of preprocessing is needed to be able to answer the questions of interest.\n",
    "\n",
    "This notebook covers the exploration of the datasets available in the ADRF for this class, and provides examples of answers to specific questions of interest. "
   ]
  },
  {
   "cell_type": "markdown",
   "metadata": {},
   "source": [
    "### Learning Objectives\n",
    "\n",
    "This notebook gives the opportunity to spend some hands-on time with the data. The notebook demonstrates various techniques on how to use SQL and R to explore various available datasets and better understand them. This forms the basis of all other types of analyses in this class and is a crucial first step for any data analysis workflow. Throughout the notebook there are checkpoints for practicing the code, which encourage to think how any of the techniques could work with other datasets as well. This notebook covers just some questions of interest (feel free to explore other questions of interest as well)."
   ]
  },
  {
   "cell_type": "markdown",
   "metadata": {},
   "source": [
    "**Datasets That Are Explored In This Notebook**\n",
    "- **Survey of Earned Doctorates (SED)**: individual-level data (educational history, demographic, and postgraduation plans) of individuals receiving research doctoral degrees from U.S. academic institutions.\n",
    "- **Survey of Doctorate Recipients (SDR)**: individual-level data (demographic, education, and career history information from individuals with a U.S. research doctoral degree in a science, engineering, or health (SEH) field).\n",
    "- **UMETRICS**: institution/individual level administrative universities' data.\n",
    "- **HERD**: institution-level data on R&D funding.\n",
    "\n",
    "This notebook explores these datasets in the ADRF, and shows different ways of analyzing the data (looking at basic metrics in the larger dataset, taking a random sample, creating derived variables, and so on). \n",
    "\n",
    "This is done using both SQL and R. The `ODBC` R package gives the opportunity to interact with the database using SQL to pull data into R. Some additional manipulations are handled by R (by converting the datasets into data frames).\n",
    "\n",
    "**This notebook provides an introduction and examples for:**\n",
    "\n",
    "- How to create new tables from the larger tables in database (sometimes called the \"analytical frame\")\n",
    "- How to explore different variables of interest\n",
    "- How to explore aggregate metrics\n",
    "- How to join tables"
   ]
  },
  {
   "cell_type": "markdown",
   "metadata": {},
   "source": [
    "### Methods\n",
    "\n",
    "In SQL:\n",
    "\n",
    "- Learn about rows and columns in the data with queries using `SELECT`, `DISTINCT` and `ORDER BY` \n",
    "- Select subsets of tables from the database with `WHERE`\n",
    "- Aggregate data over groups with `GROUP BY`\n",
    "\n",
    "In R:\n",
    "\n",
    "- Sort values with `arrange` and `desc`\n",
    "- Create new variables with `mutate`"
   ]
  },
  {
   "cell_type": "markdown",
   "metadata": {},
   "source": [
    "### R Setup\n",
    "\n",
    "Before using R functions that are not available in `base` R, load them using the built-in function `library()`. For example, running `library(tidyverse)` loads the `tidyverse` suite of packages.\n",
    "\n",
    "> When running the following code cell, don't worry about the message below. It is explained later."
   ]
  },
  {
   "cell_type": "code",
   "execution_count": null,
   "metadata": {},
   "outputs": [],
   "source": [
    "# Database interaction imports\n",
    "library(odbc)\n",
    "\n",
    "# for data manipulation/visualization\n",
    "library(tidyverse)\n",
    "\n",
    "# scaling data, calculating percentages, overriding default graphing\n",
    "library(scales)\n",
    "\n",
    "# add weights to data\n",
    "library(survey)"
   ]
  },
  {
   "cell_type": "markdown",
   "metadata": {},
   "source": [
    "__When in doubt, use shift + tab to read the documentation of a method. Full documentation can be printed with `?<package/function_name>`, e.g. `?tidyverse/ggplot` or `?sprintf`.__ Do not worry about memorizing the information in the help documentation - run this command when unsure of how to use a function.\n",
    "\n",
    "> Certain functions exist across multiple packages (e.g. the function `lag` exists in both the `dplyr` and `stats` package - also noted in the message yielded from `library(tidyverse)`). When calling a function, put the package name first to ensure that the right one is used. For example, `dplyr::lag` or `stats::lag` calls the `lag` function from `dplyr` or `stats`, respectively. "
   ]
  },
  {
   "cell_type": "code",
   "execution_count": null,
   "metadata": {},
   "outputs": [],
   "source": [
    "# see help documentation for writeLines, a function we will use to check that the sql query is written as intended\n",
    "?writeLines"
   ]
  },
  {
   "cell_type": "markdown",
   "metadata": {},
   "source": [
    "## Load the Data\n",
    "\n",
    "The following code cells show how to use R to read data from a relational database. First, connect to the server."
   ]
  },
  {
   "cell_type": "markdown",
   "metadata": {},
   "source": [
    "### Establish a Connection to the Database"
   ]
  },
  {
   "cell_type": "markdown",
   "metadata": {},
   "source": [
    "The first step is to create a connection to the database using the `dbConnect` function. The `Driver` argument is specifying the type of SQL database, while the `Server` arguments points to where the database is within the ADRF. \n",
    "\n",
    "When creating a new notebook in this course, make sure to copy the following code chunk to be able to connect to the database."
   ]
  },
  {
   "cell_type": "markdown",
   "metadata": {},
   "source": [
    "__Database Connection__"
   ]
  },
  {
   "cell_type": "code",
   "execution_count": null,
   "metadata": {},
   "outputs": [],
   "source": [
    "# Connect to the database\n",
    "con <- DBI::dbConnect(odbc::odbc(),\n",
    "                     Driver = \"SQL Server\",\n",
    "                     Server = \"msssql01.c7bdq4o2yhxo.us-gov-west-1.rds.amazonaws.com\",\n",
    "                     Trusted_Connection = \"True\")"
   ]
  },
  {
   "cell_type": "markdown",
   "metadata": {},
   "source": [
    "### Formulate Data Query\n",
    "\n",
    "This part is similar to writing a SQL query in DBeaver. Depending on the questions of interest, different queries can be used to pull different data. In this example, the query below is used to pull all columns from the SED data for doctoral students who graduated in 2015."
   ]
  },
  {
   "cell_type": "markdown",
   "metadata": {},
   "source": [
    "__Create a query as a `character` string object in R__"
   ]
  },
  {
   "cell_type": "code",
   "execution_count": null,
   "metadata": {},
   "outputs": [],
   "source": [
    "query <- \"\n",
    "SELECT TOP 10 *\n",
    "FROM ds_nsf_ncses.dbo.nsf_sed\n",
    "WHERE phdfy = '2015'\n",
    "\""
   ]
  },
  {
   "cell_type": "markdown",
   "metadata": {},
   "source": [
    "Here, `SELECT TOP` is used to read-in only the first 10 rows - this is just a preview of the data, and it also allows to avoid eating up memory by reading a large data frame into R. \n",
    "\n",
    "> `SELECT TOP` provides one simple way to get a \"sample\" of data; however, using `TOP` does **not provide a _random_** sample. It may return different samples of data, but it is just based on what is fastest for the database to return.\n",
    "\n",
    "The `writeLines` function can be used to see what has been assigned to a character string in R."
   ]
  },
  {
   "cell_type": "code",
   "execution_count": null,
   "metadata": {},
   "outputs": [],
   "source": [
    "# print with newlines instead of /n\n",
    "writeLines(query)"
   ]
  },
  {
   "cell_type": "markdown",
   "metadata": {},
   "source": [
    "### Reading in the Data \n",
    "\n",
    "Now the data can be read into an R data frame using the `con` and `query` as inputs to `dbGetQuery()`. \n",
    "\n",
    "> Recall that `con` (our server connection) includes a reference that tells it what driver to use. Forgetting to set up the driver would cause an error. "
   ]
  },
  {
   "cell_type": "code",
   "execution_count": null,
   "metadata": {},
   "outputs": [],
   "source": [
    "# read in data frame and assign to df\n",
    "df <- dbGetQuery(con,query)"
   ]
  },
  {
   "cell_type": "code",
   "execution_count": null,
   "metadata": {},
   "outputs": [],
   "source": [
    "# see first few rows of df\n",
    "head(df)"
   ]
  },
  {
   "cell_type": "markdown",
   "metadata": {},
   "source": [
    "<font color=red><h3> Checkpoint 1: Read in the table with SDR data</h3></font>"
   ]
  },
  {
   "cell_type": "markdown",
   "metadata": {},
   "source": [
    "Similarly to the code above, read in and explore the table with SDR 2017 data (name: `nsf_sdr_2017`)"
   ]
  },
  {
   "cell_type": "code",
   "execution_count": null,
   "metadata": {},
   "outputs": [],
   "source": [
    "query <- \"\n",
    "SELECT TOP 10 *\n",
    "FROM ds_nsf_ncses.dbo.nsf_sed\n",
    "WHERE phdfy = '2017'\n",
    "\"\n",
    "\n",
    "\n",
    "df1 <- dbGetQuery(con,query)\n",
    "\n",
    "head(df1)\n"
   ]
  },
  {
   "cell_type": "markdown",
   "metadata": {},
   "source": [
    "## Summary Statistics\n",
    "\n",
    "This section covers aggregating statistics on the data. The goal of this exercise is to get a better understanding of the data. Ask the following questions: Are the data generally clean? What are possible sources of error? What are the types of objects and what are the variables?"
   ]
  },
  {
   "cell_type": "markdown",
   "metadata": {},
   "source": [
    "> Note: __Large tables__ can take a long time to process on shared databases, so using SQL and R is demonstrated with consideration for how much data is read back into R."
   ]
  },
  {
   "cell_type": "markdown",
   "metadata": {},
   "source": [
    "To answer these broader research questions, start by looking at simple aggregate statistics in each of the data sources."
   ]
  },
  {
   "cell_type": "markdown",
   "metadata": {},
   "source": [
    "### Data Exploration #1: **Survey of Earned Doctorates (SED)**\n",
    "\n",
    "**Motivating Question:** What is a primary source of funding for doctorate students?\n",
    "\n",
    "In order to avoid pulling a large amount of information, only pull in the data with the unique identifier of a person (`drf_id`) and their primary source of support (in the SED data this variable is called `srceprim`, primary source of support)."
   ]
  },
  {
   "cell_type": "code",
   "execution_count": null,
   "metadata": {},
   "outputs": [],
   "source": [
    "# Create the query and select only two variables: unique identifier (drfid) and primary source of support (srceprim)\n",
    "\n",
    "query <- \"\n",
    "SELECT drf_id, srceprim\n",
    "FROM ds_nsf_ncses.dbo.nsf_sed\n",
    "WHERE phdfy = '2015'\n",
    "\""
   ]
  },
  {
   "cell_type": "code",
   "execution_count": null,
   "metadata": {},
   "outputs": [],
   "source": [
    "# Read it into a pandas dataframe\n",
    "\n",
    "sed_ncses_2015 <- dbGetQuery(con,query)"
   ]
  },
  {
   "cell_type": "code",
   "execution_count": null,
   "metadata": {},
   "outputs": [],
   "source": [
    "# View the first rows of the table\n",
    "\n",
    "head(sed_ncses_2015)"
   ]
  },
  {
   "cell_type": "markdown",
   "metadata": {},
   "source": [
    "Check what are the unique values in the primary support variable. Use `SELECT DISTINCT` in SQl."
   ]
  },
  {
   "cell_type": "code",
   "execution_count": null,
   "metadata": {},
   "outputs": [],
   "source": [
    "query <- \"\n",
    "SELECT DISTINCT(srceprim)\n",
    "FROM ds_nsf_ncses.dbo.nsf_sed\n",
    "WHERE phdfy = '2015'\n",
    "\"\n",
    "dbGetQuery(con,query)"
   ]
  },
  {
   "cell_type": "markdown",
   "metadata": {},
   "source": [
    "Use the `COUNT`, `GROUP BY` and `ORDER BY` functions in SQL to aggregate the number of graduates in each category and sort them in a descending order."
   ]
  },
  {
   "cell_type": "code",
   "execution_count": null,
   "metadata": {},
   "outputs": [],
   "source": [
    "# Count the number of graduates (their unique identifiers), group by a primary source of support variable, and sort \n",
    "# the counts in a descending order\n",
    "\n",
    "query <- \"\n",
    "SELECT COUNT(drf_id) AS count, srceprim\n",
    "FROM ds_nsf_ncses.dbo.nsf_sed\n",
    "WHERE phdfy = '2015'\n",
    "GROUP BY srceprim\n",
    "ORDER BY COUNT(drf_id) DESC\n",
    "\""
   ]
  },
  {
   "cell_type": "code",
   "execution_count": null,
   "metadata": {},
   "outputs": [],
   "source": [
    "primary_support <- dbGetQuery(con,query)"
   ]
  },
  {
   "cell_type": "code",
   "execution_count": null,
   "metadata": {},
   "outputs": [],
   "source": [
    "primary_support  # call the name of the dataframe to view the results"
   ]
  },
  {
   "cell_type": "markdown",
   "metadata": {},
   "source": [
    "### It would be useful to see in the same table what those categories stand for. In this case, there is a data dictionary which can be used to look up the categories and create a separate data frame, then join the data frame above on the column with category letters."
   ]
  },
  {
   "cell_type": "code",
   "execution_count": null,
   "metadata": {},
   "outputs": [],
   "source": [
    "# Create a new data frame with description of primary support categories\n",
    "\n",
    "primary_source <- data.frame(\"srceprim\" = c(\"A\",\"B\",\"C\",\"D\",\"E\",\"F\",\"G\",\"H\",\"I\",\"J\",\"K\",\"L\",\"M\",\"N\"),\n",
    "                            \"description\" = c('Fellowship, scholarship', 'Dissertation grant', 'Teaching assistantship', 'Research assistantship',\n",
    "                                'Other assistantship','Traineeship','Internship, clinical residency', 'Loans (from any source)',\n",
    "                                'Personal savings', 'Personal earnings during graduate school (other than sources listed above)',\n",
    "                                'Spouse\\'s, partner\\'s, or family\\'s earnings or savings', 'Employer reimbursement/assistance',\n",
    "                                'Foreign (non-U.S.) support', 'Other - specify')\n",
    "                            )"
   ]
  },
  {
   "cell_type": "markdown",
   "metadata": {},
   "source": [
    "Use the `inner join` function to join two tables, specifying which column to combine the two data frames on (`'srceprim'`)."
   ]
  },
  {
   "cell_type": "code",
   "execution_count": null,
   "metadata": {},
   "outputs": [],
   "source": [
    "primary_source <- inner_join(primary_source,primary_support, by=c('srceprim'))"
   ]
  },
  {
   "cell_type": "code",
   "execution_count": null,
   "metadata": {},
   "outputs": [],
   "source": [
    "primary_source"
   ]
  },
  {
   "cell_type": "markdown",
   "metadata": {},
   "source": [
    "Also sort the values, with the largest value first - for that, use `arrange` and `desc` (descending order):"
   ]
  },
  {
   "cell_type": "code",
   "execution_count": null,
   "metadata": {},
   "outputs": [],
   "source": [
    "primary_source %>%\n",
    "    arrange(desc(count))"
   ]
  },
  {
   "cell_type": "markdown",
   "metadata": {},
   "source": [
    "How to find the percentages instead of counts? To calculate that, get the sum of the column with number of graduates to find out the total number, using function `sum`. Then, divide each count by the sum and create a new column representing the percentage."
   ]
  },
  {
   "cell_type": "code",
   "execution_count": null,
   "metadata": {},
   "outputs": [],
   "source": [
    "sum(primary_source$count)"
   ]
  },
  {
   "cell_type": "markdown",
   "metadata": {},
   "source": [
    "To find out the percentage, divide the column with the number of graduates by the total number of graduates and create a new column called `percentage` with those values:"
   ]
  },
  {
   "cell_type": "code",
   "execution_count": null,
   "metadata": {},
   "outputs": [],
   "source": [
    "primary_source <- primary_source %>%\n",
    "    mutate(percentage = (count / sum(primary_source$count)) * 100)"
   ]
  },
  {
   "cell_type": "code",
   "execution_count": null,
   "metadata": {},
   "outputs": [],
   "source": [
    "primary_source"
   ]
  },
  {
   "cell_type": "markdown",
   "metadata": {},
   "source": [
    "<font color=red><h3> Checkpoint 2: Find a secondary source of support</h3></font>"
   ]
  },
  {
   "cell_type": "markdown",
   "metadata": {},
   "source": [
    "For the same cohort of 2015, repeat the code above and find a secondary source of support (variable: `srcesec`)."
   ]
  },
  {
   "cell_type": "code",
   "execution_count": null,
   "metadata": {},
   "outputs": [],
   "source": [
    "# Count the number of graduates (their unique identifiers), group by a primary source of support variable, and sort \n",
    "# the counts in a descending order\n",
    "\n",
    "query <- \"\n",
    "SELECT COUNT(drf_id) AS count, srcesec\n",
    "FROM ds_nsf_ncses.dbo.nsf_sed\n",
    "WHERE phdfy = '2015'\n",
    "GROUP BY srcesec\n",
    "ORDER BY COUNT(drf_id) DESC\n",
    "\"\n",
    "\n",
    "secondary_support <- dbGetQuery(con,query)\n",
    "\n",
    "head(secondary_support)\n",
    "\n",
    "# Create a new data frame with description of primary support categories\n",
    "\n",
    "secondary_source <- data.frame(\"srcesec\" = c(\"A\",\"B\",\"C\",\"D\",\"E\",\"F\",\"G\",\"H\",\"I\",\"J\",\"K\",\"L\",\"M\",\"N\"),\n",
    "                            \"description\" = c('Fellowship, scholarship', 'Dissertation grant', 'Teaching assistantship', 'Research assistantship',\n",
    "                                'Other assistantship','Traineeship','Internship, clinical residency', 'Loans (from any source)',\n",
    "                                'Personal savings', 'Personal earnings during graduate school (other than sources listed above)',\n",
    "                                'Spouse\\'s, partner\\'s, or family\\'s earnings or savings', 'Employer reimbursement/assistance',\n",
    "                                'Foreign (non-U.S.) support', 'Other - specify')\n",
    "                            )\n",
    "\n",
    "secondary_source <- inner_join(secondary_source,secondary_support, by=c('srcesec'))\n",
    "\n",
    "head(secondary_source)\n",
    "\n",
    "secondary_source %>%\n",
    "    arrange(desc(count))\n",
    "\n",
    "sum(secondary_source$count)\n",
    "\n",
    "secondary_source <- secondary_source %>%\n",
    "    mutate(percentage = (count / sum(secondary_source$count)) * 100)\n"
   ]
  },
  {
   "cell_type": "code",
   "execution_count": null,
   "metadata": {},
   "outputs": [],
   "source": [
    "head(secondary_source) %>% arrange(desc(count))"
   ]
  },
  {
   "cell_type": "code",
   "execution_count": null,
   "metadata": {},
   "outputs": [],
   "source": []
  },
  {
   "cell_type": "markdown",
   "metadata": {},
   "source": [
    "### Data Exploration #2: **UMETRICS**"
   ]
  },
  {
   "cell_type": "markdown",
   "metadata": {},
   "source": [
    "**Motivating Question:** How important is federal funding for doctorate recipients?"
   ]
  },
  {
   "cell_type": "markdown",
   "metadata": {},
   "source": [
    "UMETRICS data can help provide insight into the funding history of doctorate recipients. In the `semester` file, there is a variable which indicates a source which most frequently funds a given student in a given semester (variable `modal_funder`). "
   ]
  },
  {
   "cell_type": "markdown",
   "metadata": {},
   "source": [
    "To use the available information on the funding history for the SED cohort 2015, join the tables using SQL code, and bring in the joined table into R as a data frame."
   ]
  },
  {
   "cell_type": "code",
   "execution_count": null,
   "metadata": {},
   "outputs": [],
   "source": [
    "# First, join the SED table using an SED-UMETRICS crosswalk, and then join the resulting table with the IRIS semester table\n",
    "# get get the name of the most frequently funding agency and the number of semesters \n",
    "query <- \"\n",
    "SELECT sed.drf_id, iris_semester.modal_funder, COUNT(iris_semester.semester) AS number_semesters\n",
    "FROM ds_nsf_ncses.dbo.nsf_sed sed\n",
    "JOIN tr_uncf_excelencia.dbo.sed_umetrics_xwalk xwalk ON sed.drf_id = xwalk.drf_id\n",
    "JOIN ds_iris_umetrics.dbo.semester iris_semester ON iris_semester.emp_number = xwalk.emp_number\n",
    "WHERE sed.phdfy = '2015'\n",
    "GROUP BY sed.drf_id, iris_semester.modal_funder\n",
    "\"\n",
    "\n",
    "funding <- dbGetQuery(con,query)"
   ]
  },
  {
   "cell_type": "code",
   "execution_count": null,
   "metadata": {},
   "outputs": [],
   "source": [
    "funding %>% arrange(desc(drf_id))"
   ]
  },
  {
   "cell_type": "markdown",
   "metadata": {},
   "source": [
    "Compare this information with the primary source of support variable which was explored above in the SED dataset."
   ]
  },
  {
   "cell_type": "code",
   "execution_count": null,
   "metadata": {},
   "outputs": [],
   "source": [
    "query <- \"\n",
    "SELECT drf_id, srceprim\n",
    "FROM ds_nsf_ncses.dbo.nsf_sed\n",
    "WHERE phdfy = '2015'\n",
    "\"\n",
    "source_support_sed <- dbGetQuery(con,query)"
   ]
  },
  {
   "cell_type": "code",
   "execution_count": null,
   "metadata": {},
   "outputs": [],
   "source": [
    "head(source_support_sed)"
   ]
  },
  {
   "cell_type": "code",
   "execution_count": null,
   "metadata": {},
   "outputs": [],
   "source": [
    "# Inner join with the table defined above with categories' definitions\n",
    "source_support <- inner_join(source_support_sed, primary_source, by=c('srceprim'))"
   ]
  },
  {
   "cell_type": "code",
   "execution_count": null,
   "metadata": {},
   "outputs": [],
   "source": [
    "head(source_support)"
   ]
  },
  {
   "cell_type": "markdown",
   "metadata": {},
   "source": [
    "Now left join with the IRIS data on funding defined above."
   ]
  },
  {
   "cell_type": "code",
   "execution_count": null,
   "metadata": {},
   "outputs": [],
   "source": [
    "funding_comparison <- inner_join(source_support, funding, by =c('drf_id'))"
   ]
  },
  {
   "cell_type": "code",
   "execution_count": null,
   "metadata": {},
   "outputs": [],
   "source": [
    "head(funding_comparison)"
   ]
  },
  {
   "cell_type": "markdown",
   "metadata": {},
   "source": [
    "Subset by an individual:"
   ]
  },
  {
   "cell_type": "code",
   "execution_count": null,
   "metadata": {},
   "outputs": [],
   "source": [
    "funding_comparison[funding_comparison$drf_id == 'AE00430', ]"
   ]
  },
  {
   "cell_type": "markdown",
   "metadata": {},
   "source": [
    "With the joined SED-UMETRICS dataset, now there is a more detailed picture of a person's funding history."
   ]
  },
  {
   "cell_type": "markdown",
   "metadata": {},
   "source": [
    "<font color=red><h3> Checkpoint 3: Find number of semesters by non-federal source of funding.</h3></font>"
   ]
  },
  {
   "cell_type": "markdown",
   "metadata": {},
   "source": [
    "IRIS `semester` file has a flag for non-federal sources of funding called `any_non_federal`. Find the number of semesters where `any_non_federal` source of funding is True (equals 1)."
   ]
  },
  {
   "cell_type": "code",
   "execution_count": null,
   "metadata": {},
   "outputs": [],
   "source": [
    "\n",
    "\n",
    "\n",
    "\n"
   ]
  },
  {
   "cell_type": "markdown",
   "metadata": {},
   "source": [
    "### Data Exploration #3: **Survey of Doctorate Recipients (SDR)**\n",
    "\n",
    "**Motivating Question:** What is the distribution of earnings by gender and by race/ethnicity?\n",
    "\n",
    "As the SDR data includes sub-samples of the SED population, survey weights need to be used in the calculations.\n",
    "\n",
    "Find the distribution of earnings for the SED cohort 2015. In the SDR data, use the variable `sdryr` (the year of first award of a U.S. PhD degree) to subset by year 2015, and also use `salary`, `gender`, and `wtsurvy` variables."
   ]
  },
  {
   "cell_type": "code",
   "execution_count": null,
   "metadata": {},
   "outputs": [],
   "source": [
    "# Get the relevant variables from the SDR data to find the female earnings among the 2015 cohort\n",
    "\n",
    "query <- \"\n",
    "SELECT salary, wtsurvy\n",
    "FROM ds_nsf_ncses.dbo.nsf_sdr_2017\n",
    "WHERE sdryr = '2015' \n",
    "AND gender = 'F'\n",
    "\"\n",
    "female_earnings <- dbGetQuery(con,query)"
   ]
  },
  {
   "cell_type": "code",
   "execution_count": null,
   "metadata": {},
   "outputs": [],
   "source": [
    "head(female_earnings)"
   ]
  },
  {
   "cell_type": "code",
   "execution_count": null,
   "metadata": {},
   "outputs": [],
   "source": [
    "# Remove logical skip value REDACTED\n",
    "female_earnings <- female_earnings[female_earnings$salary != REDACTED, ]"
   ]
  },
  {
   "cell_type": "markdown",
   "metadata": {},
   "source": [
    "When loading the R libraries at the beginning of the notebook, an R package called `survey` was imported (by calling `library(survey)`). This library allows to calculate weighted variables by applying survey weights to the data."
   ]
  },
  {
   "cell_type": "markdown",
   "metadata": {},
   "source": [
    "Apply a `svydesign` function to the unweighted data frame called `female_earnings`, to calculate the weighted earnings."
   ]
  },
  {
   "cell_type": "code",
   "execution_count": null,
   "metadata": {},
   "outputs": [],
   "source": [
    "female_earnings_weighted <- svydesign(ids=~1, data=female_earnings, weights=female_earnings$wtsurvy)"
   ]
  },
  {
   "cell_type": "markdown",
   "metadata": {},
   "source": [
    "Instead of a data frame, the `svydesign` function returns an object of class `survey.design` - try to call `female_earnings_weighted`:"
   ]
  },
  {
   "cell_type": "code",
   "execution_count": null,
   "metadata": {},
   "outputs": [],
   "source": [
    "female_earnings_weighted"
   ]
  },
  {
   "cell_type": "markdown",
   "metadata": {},
   "source": [
    "It is not a regular table output, like with data frames. For this new object, use functions provided in the `survey` package. For example, to find a weighted mean of female earnings, call a function called `svymean`:"
   ]
  },
  {
   "cell_type": "code",
   "execution_count": null,
   "metadata": {},
   "outputs": [],
   "source": [
    "svymean(~salary, female_earnings_weighted, na.rm=TRUE)"
   ]
  },
  {
   "cell_type": "markdown",
   "metadata": {},
   "source": [
    "Compare the weighted mean with the unweighted mean (using the unweighted data frame called `female_earnings`):"
   ]
  },
  {
   "cell_type": "code",
   "execution_count": null,
   "metadata": {},
   "outputs": [],
   "source": [
    "mean(female_earnings$salary)"
   ]
  },
  {
   "cell_type": "markdown",
   "metadata": {},
   "source": [
    "There is a slight difference between unweighted and weighted means - remember, with the survey data, always use the weighted variables."
   ]
  },
  {
   "cell_type": "markdown",
   "metadata": {},
   "source": [
    "<font color=red><h3> Checkpoint 4: Find the mean of earnings by race/ethnicity</h3></font>\n",
    "\n",
    "Using the `svydesign` function above, find the mean of earnings for the Hispanic population for the cohort 2015 (variable `racethm = '4'`)."
   ]
  },
  {
   "cell_type": "code",
   "execution_count": null,
   "metadata": {},
   "outputs": [],
   "source": [
    "\n",
    "\n",
    "\n",
    "\n"
   ]
  },
  {
   "cell_type": "markdown",
   "metadata": {},
   "source": [
    "### Data Exploration #4: **Higher Education Research and Development Survey (HERD)**\n",
    "\n",
    "**Motivating Question:** What are the institutional characteristics of the various schools from which graduate students receive their PhDs?\n",
    "\n",
    "To answer this question, explore the HERD data."
   ]
  },
  {
   "cell_type": "code",
   "execution_count": null,
   "metadata": {},
   "outputs": [],
   "source": [
    "query <- \"\n",
    "SELECT *\n",
    "FROM ds_nsf_ncses.dbo.nsf_herd\n",
    "\""
   ]
  },
  {
   "cell_type": "code",
   "execution_count": null,
   "metadata": {},
   "outputs": [],
   "source": [
    "herd <- dbGetQuery(con,query)"
   ]
  },
  {
   "cell_type": "code",
   "execution_count": null,
   "metadata": {},
   "outputs": [],
   "source": [
    "head(herd)"
   ]
  },
  {
   "cell_type": "markdown",
   "metadata": {},
   "source": [
    "The HERD data has flags for whether the university has a medical school. The values are stored as `True` or `False` (for whether a university has a medical school)."
   ]
  },
  {
   "cell_type": "markdown",
   "metadata": {},
   "source": [
    "Count the number of universities with medical school:"
   ]
  },
  {
   "cell_type": "code",
   "execution_count": null,
   "metadata": {},
   "outputs": [],
   "source": [
    "query <- \"\n",
    "SELECT COUNT(std_inst_name)\n",
    "FROM ds_nsf_ncses.dbo.nsf_herd\n",
    "WHERE med_sch_flag = 'T'\n",
    "\"\n",
    "dbGetQuery(con,query)"
   ]
  },
  {
   "cell_type": "markdown",
   "metadata": {},
   "source": [
    "The same can be done in R, by subsetting a data frame:"
   ]
  },
  {
   "cell_type": "code",
   "execution_count": null,
   "metadata": {},
   "outputs": [],
   "source": [
    "med_school <- filter(herd, med_sch_flag == 'T')"
   ]
  },
  {
   "cell_type": "markdown",
   "metadata": {},
   "source": [
    "Check that all values are True in `med_sch_flag` variable:"
   ]
  },
  {
   "cell_type": "code",
   "execution_count": null,
   "metadata": {},
   "outputs": [],
   "source": [
    "unique(med_school$med_sch_flag)"
   ]
  },
  {
   "cell_type": "markdown",
   "metadata": {},
   "source": [
    "And counting the total number of rows of universities with a medical school by using `nrow`:"
   ]
  },
  {
   "cell_type": "code",
   "execution_count": null,
   "metadata": {},
   "outputs": [],
   "source": [
    "nrow(med_school)"
   ]
  },
  {
   "cell_type": "markdown",
   "metadata": {},
   "source": [
    "<font color=red><h3> Checkpoint 4: Explore the HERD data</h3></font>"
   ]
  },
  {
   "cell_type": "markdown",
   "metadata": {},
   "source": [
    "1. Find how many universities are flagged as historically black colleges and universities (variable: `hbcu_flag`)."
   ]
  },
  {
   "cell_type": "code",
   "execution_count": null,
   "metadata": {},
   "outputs": [],
   "source": []
  },
  {
   "cell_type": "markdown",
   "metadata": {},
   "source": [
    "2. Order by total R&D funding in descending order."
   ]
  },
  {
   "cell_type": "code",
   "execution_count": null,
   "metadata": {},
   "outputs": [],
   "source": []
  },
  {
   "cell_type": "markdown",
   "metadata": {},
   "source": [
    "> Reminder: refer to the data documentation for more information on each dataset."
   ]
  },
  {
   "cell_type": "code",
   "execution_count": null,
   "metadata": {},
   "outputs": [],
   "source": []
  },
  {
   "cell_type": "markdown",
   "metadata": {},
   "source": [
    "#### **Directory Structure**\n",
    "\n",
    "We will constantly read and write csv files to load crosswalks and to save results in all the notebooks. If you have not done so already, let's create a few folders in your U drive first so it is eaiser for you to organize all the files. \n",
    "\n",
    "- Open a Windows File Explorer\n",
    "- On the left hand side, find U drive (U:) and click into it\n",
    "- On the right hand side, open (or create) your user folder: FirstName.LastName.UserID\n",
    "- In your user folder, create a new folder: UNCF_Excelencia_Training\n",
    "- In the \"UNCF_Excelencia_Training\" folder, create three subfolders: \"Notebooks\", \"Results\", \"Output\"\n",
    "- You can copy and paste the class notebooks to the \"Notebook\" folder, save summary statistics to the \"Results\" folder, and save visualizations (in the third notebook) to the \"Output\" folder.\n",
    "\n",
    "At the end of this notebook, **we save all the summary statistics to \"U:\\\\FirstName.LastName.UserID\\UNCF_Excelencia_Training\\Results\\filename.csv\"**."
   ]
  },
  {
   "cell_type": "code",
   "execution_count": null,
   "metadata": {},
   "outputs": [],
   "source": []
  },
  {
   "cell_type": "code",
   "execution_count": null,
   "metadata": {},
   "outputs": [],
   "source": [
    "# Close the database connection\n",
    "dbDisconnect(con)"
   ]
  }
 ],
 "metadata": {
  "hide_input": false,
  "kernelspec": {
   "display_name": "R",
   "language": "R",
   "name": "ir"
  },
  "language_info": {
   "codemirror_mode": "r",
   "file_extension": ".r",
   "mimetype": "text/x-r-source",
   "name": "R",
   "pygments_lexer": "r",
   "version": "3.6.3"
  },
  "toc": {
   "nav_menu": {},
   "number_sections": false,
   "sideBar": true,
   "skip_h1_title": false,
   "toc_cell": false,
   "toc_position": {
    "height": "566px",
    "left": "0px",
    "right": "954px",
    "top": "110px",
    "width": "179px"
   },
   "toc_section_display": "block",
   "toc_window_display": false
  },
  "varInspector": {
   "cols": {
    "lenName": 16,
    "lenType": 16,
    "lenVar": 40
   },
   "kernels_config": {
    "python": {
     "delete_cmd_postfix": "",
     "delete_cmd_prefix": "del ",
     "library": "var_list.py",
     "varRefreshCmd": "print(var_dic_list())"
    },
    "r": {
     "delete_cmd_postfix": ") ",
     "delete_cmd_prefix": "rm(",
     "library": "var_list.r",
     "varRefreshCmd": "cat(var_dic_list()) "
    }
   },
   "types_to_exclude": [
    "module",
    "function",
    "builtin_function_or_method",
    "instance",
    "_Feature"
   ],
   "window_display": false
  }
 },
 "nbformat": 4,
 "nbformat_minor": 4
}
